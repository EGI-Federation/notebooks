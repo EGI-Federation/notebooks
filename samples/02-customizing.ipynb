{
 "cells": [
  {
   "cell_type": "markdown",
   "metadata": {},
   "source": [
    "## Customizing your environment\n",
    "\n",
    "This is taken from http://nbviewer.jupyter.org/gist/greglandrum/4070354\n",
    "Will help to introduce us on how to install packages and customize the environment"
   ]
  },
  {
   "cell_type": "code",
   "execution_count": 3,
   "metadata": {},
   "outputs": [
    {
     "name": "stdout",
     "output_type": "stream",
     "text": [
      "Collecting package metadata: done\n",
      "Solving environment: done\n",
      "\n",
      "## Package Plan ##\n",
      "\n",
      "  environment location: /opt/conda\n",
      "\n",
      "  added / updated specs:\n",
      "    - rdkit\n",
      "\n",
      "\n",
      "The following packages will be downloaded:\n",
      "\n",
      "    package                    |            build\n",
      "    ---------------------------|-----------------\n",
      "    boost-1.68.0               |py37h8619c78_1001         310 KB  conda-forge\n",
      "    boost-cpp-1.68.0           |    h11c811c_1000        20.5 MB  conda-forge\n",
      "    pycairo-1.18.0             |py37h1b9232e_1000          74 KB  conda-forge\n",
      "    rdkit-2018.09.1            |py37h4a7b924_1000        19.9 MB  conda-forge\n",
      "    ------------------------------------------------------------\n",
      "                                           Total:        40.9 MB\n",
      "\n",
      "The following NEW packages will be INSTALLED:\n",
      "\n",
      "  boost              conda-forge/linux-64::boost-1.68.0-py37h8619c78_1001\n",
      "  boost-cpp          conda-forge/linux-64::boost-cpp-1.68.0-h11c811c_1000\n",
      "  pycairo            conda-forge/linux-64::pycairo-1.18.0-py37h1b9232e_1000\n",
      "  rdkit              conda-forge/linux-64::rdkit-2018.09.1-py37h4a7b924_1000\n",
      "\n",
      "\n",
      "\n",
      "Downloading and Extracting Packages\n",
      "boost-1.68.0         | 310 KB    | ##################################### | 100% \n",
      "pycairo-1.18.0       | 74 KB     | ##################################### | 100% \n",
      "boost-cpp-1.68.0     | 20.5 MB   | ##################################### | 100% \n",
      "rdkit-2018.09.1      | 19.9 MB   | ##################################### | 100% \n",
      "Preparing transaction: done\n",
      "Verifying transaction: done\n",
      "Executing transaction: done\n",
      "\n",
      "Note: you may need to restart the kernel to use updated packages.\n"
     ]
    }
   ],
   "source": [
    "%conda install rdkit"
   ]
  },
  {
   "cell_type": "code",
   "execution_count": 4,
   "metadata": {},
   "outputs": [],
   "source": [
    "from rdkit import Chem\n",
    "from rdkit.Chem import Draw\n",
    "from rdkit.Chem.Draw import IPythonConsole"
   ]
  },
  {
   "cell_type": "code",
   "execution_count": 5,
   "metadata": {},
   "outputs": [],
   "source": [
    "smis = (\"O=C(NCc1cc(OC)c(O)cc1)CCCC/C=C/C(C)C\", \"CC(C)CCCCCC(=O)NCC1=CC(=C(C=C1)O)OC\", \"c1(C(=O)O)cc(OC)c(O)cc1\")\n",
    "mols = [Chem.MolFromSmiles(x) for x in smis]"
   ]
  },
  {
   "cell_type": "code",
   "execution_count": 6,
   "metadata": {},
   "outputs": [
    {
     "data": {
      "image/png": "[encoded data removed]",
      "text/plain": [
       "<PIL.PngImagePlugin.PngImageFile image mode=RGB size=600x200 at 0x7FC03326E198>"
      ]
     },
     "execution_count": 6,
     "metadata": {},
     "output_type": "execute_result"
    }
   ],
   "source": [
    "Draw.MolsToGridImage(mols)"
   ]
  },
  {
   "cell_type": "code",
   "execution_count": null,
   "metadata": {},
   "outputs": [],
   "source": []
  }
 ],
 "metadata": {
  "kernelspec": {
   "display_name": "Python 3",
   "language": "python",
   "name": "python3"
  },
  "language_info": {
   "codemirror_mode": {
    "name": "ipython",
    "version": 3
   },
   "file_extension": ".py",
   "mimetype": "text/x-python",
   "name": "python",
   "nbconvert_exporter": "python",
   "pygments_lexer": "ipython3",
   "version": "3.7.1"
  }
 },
 "nbformat": 4,
 "nbformat_minor": 2
}
