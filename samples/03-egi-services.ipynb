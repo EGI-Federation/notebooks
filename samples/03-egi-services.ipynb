{
 "cells": [
  {
   "cell_type": "markdown",
   "metadata": {},
   "source": [
    "# Interacting with the infrastructure with your own credentials\n",
    "\n",
    "This code shows how to get a valid access token to interact \n",
    "with Check-in integrated services. \n",
    "\n",
    "**Beware the API for refreshing tokens is still under development \n",
    "and may change in the future**\n",
    "\n",
    "In this example we use the token to list the VM on one of the providers of the EGI Cloud"
   ]
  },
  {
   "cell_type": "code",
   "execution_count": 1,
   "metadata": {},
   "outputs": [
    {
     "name": "stdout",
     "output_type": "stream",
     "text": [
      "Note: you may need to restart the kernel to use updated packages.\n"
     ]
    }
   ],
   "source": [
    "# Install OpenStack client\n",
    "%pip install -q keystoneauth1 python-novaclient tabulate"
   ]
  },
  {
   "cell_type": "code",
   "execution_count": 2,
   "metadata": {},
   "outputs": [
    {
     "name": "stdout",
     "output_type": "stream",
     "text": [
      "Got an access token: eyJraWQiOi...\n"
     ]
    }
   ],
   "source": [
    "import requests\n",
    "import os\n",
    "\n",
    "api_url = os.environ.get('JUPYTERHUB_API_URL')\n",
    "token = os.environ.get('JUPYTERHUB_API_TOKEN')\n",
    "\n",
    "r = requests.get(api_url + '/refresh',\n",
    "    headers={\n",
    "             'Authorization': 'token %s' % token,\n",
    "            }\n",
    "    )\n",
    "checkin_token = r.json()['access_token']\n",
    "print(\"Got an access token: %s...\" % checkin_token[0:10])"
   ]
  },
  {
   "cell_type": "code",
   "execution_count": 3,
   "metadata": {},
   "outputs": [
    {
     "name": "stdout",
     "output_type": "stream",
     "text": [
      "Server ID                             Name             Status\n",
      "------------------------------------  ---------------  --------\n",
      "70f7ca69-e488-4ba4-b6e4-6775694e18e6  ocims-01         ACTIVE\n",
      "6cc317e0-a56b-418d-b451-d95c0a570c3a  sectest-ext-net  ACTIVE\n",
      "46fc3784-b592-4493-88fa-0b1c1459a7eb  sectest          ACTIVE\n",
      "a09fa34e-4479-455e-a9cb-deaadae5a0c5  Kubernetes       ACTIVE\n",
      "76863ff3-02c2-45c9-901e-7966031c73ad  Kubernetes       ACTIVE\n",
      "6fe857b8-d66f-4d74-857c-b5d5bb42d53d  Kubernetes       ACTIVE\n",
      "4435dea2-5b29-458e-a224-460a5d9dda3e  Kubernetes       ACTIVE\n",
      "22056396-12cd-4038-8831-ad17ba3a99d1  Kubernetes       ACTIVE\n",
      "19faffdb-4a1c-4367-8494-0d339b04bbc4  infopro          ACTIVE\n",
      "5b7d02c3-d0df-4c47-ab4c-337089ff91c7  im_userimage     ACTIVE\n"
     ]
    }
   ],
   "source": [
    "# Now use that token into another service\n",
    "# Shown as example one provider of the EGI Cloud\n",
    "\n",
    "from keystoneauth1 import session\n",
    "from keystoneauth1.identity import v3\n",
    "import novaclient.client\n",
    "\n",
    "# This is from GOCDB\n",
    "auth_url=\"https://sbgcloud.in2p3.fr:5000/v3\"\n",
    "project_id=\"a5eb30bba2c2497b90645fb199e34b39\"\n",
    "\n",
    "s = session.Session(auth=v3.OidcAccessToken(auth_url=auth_url,\n",
    "                                            identity_provider=\"egi.eu\",\n",
    "                                            protocol=\"openid\",\n",
    "                                            access_token=checkin_token,\n",
    "                                            project_id=project_id))\n",
    "nova = novaclient.client.Client(2, session=s)\n",
    "\n",
    "\n",
    "servers_table = []\n",
    "for server in nova.servers.list():\n",
    "    servers_table.append((server.id, server.name, server.status))\n",
    "\n",
    "from tabulate import tabulate\n",
    "\n",
    "print(tabulate(servers_table, headers=(\"Server ID\", \"Name\", \"Status\")))"
   ]
  },
  {
   "cell_type": "code",
   "execution_count": null,
   "metadata": {},
   "outputs": [],
   "source": []
  }
 ],
 "metadata": {
  "kernelspec": {
   "display_name": "Python 3",
   "language": "python",
   "name": "python3"
  },
  "language_info": {
   "codemirror_mode": {
    "name": "ipython",
    "version": 3
   },
   "file_extension": ".py",
   "mimetype": "text/x-python",
   "name": "python",
   "nbconvert_exporter": "python",
   "pygments_lexer": "ipython3",
   "version": "3.7.1"
  }
 },
 "nbformat": 4,
 "nbformat_minor": 2
}
